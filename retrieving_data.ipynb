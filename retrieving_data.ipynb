{
 "cells": [
  {
   "cell_type": "code",
   "execution_count": null,
   "metadata": {},
   "outputs": [],
   "source": [
    "import requests\n",
    "from googleapiclient.discovery import build\n",
    "import pymongo\n",
    "from alive_progress import alive_bar\n",
    "\n",
    "api_key=open('C:\\\\Users\\\\andik\\\\Documents\\\\project\\\\Project NLP 1\\\\Youtube\\\\API_youtube.txt').readlines()\n",
    "youtube=build('youtube','v3',developerKey=api_key)\n",
    "request=youtube.search().list(part='snippet',q='',maxResults=5)\n",
    "channelId=request.execute()['items'][0]['snippet']['channelId']\n",
    "request=youtube.search().list(part='snippet',channelId=channelId,maxResults=100,q='handphone')\n",
    "data=request.execute()['items']\n",
    "video_snippet={}\n",
    "request=youtube.videos().list(part='snippet',id=j)\n",
    "data=request.execute()\n",
    "video_dict=dict()\n",
    "video_dict['videoid']=j\n",
    "video_dict['judul']=data['items'][0]['snippet']['title']\n",
    "video_dict['time published']=data['items'][0]['snippet']['publishedAt']\n",
    "batas_komen=len(youtube.commentThreads().list(part='snippet',videoId=j ,textFormat='plainText',\n",
    "order='time',maxResults=50).execute()['items'])\n",
    "print(batas_komen)\n",
    "if batas_komen<50:\n",
    "    batas_komen=batas_komen\n",
    "elif batas_komen>=50:\n",
    "    batas_komen=49\n",
    "list_komen=[]\n",
    "for i in range(0,batas_komen):\n",
    "    list_komen.append(youtube.commentThreads().list(part='snippet',videoId=j ,textFormat='plainText',\n",
    "            order='time',maxResults=50).execute()['items'][i]['snippet']['topLevelComment']['snippet']['textDisplay'])\n",
    "video_dict['komentar']=list_komen"
   ]
  }
 ],
 "metadata": {
  "language_info": {
   "name": "python"
  }
 },
 "nbformat": 4,
 "nbformat_minor": 2
}
