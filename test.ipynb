{
 "cells": [
  {
   "cell_type": "code",
   "execution_count": null,
   "metadata": {},
   "outputs": [
    {
     "ename": "",
     "evalue": "",
     "output_type": "error",
     "traceback": [
      "\u001b[1;31mRunning cells with 'c:\\Users\\Dikadalin\\AppData\\Local\\Programs\\Python\\Python311\\python.exe' requires the ipykernel package.\n",
      "\u001b[1;31mRun the following command to install 'ipykernel' into the Python environment. \n",
      "\u001b[1;31mCommand: 'c:/Users/Dikadalin/AppData/Local/Programs/Python/Python311/python.exe -m pip install ipykernel -U --user --force-reinstall'"
     ]
    }
   ],
   "source": [
    "from selenium import webdriver\n",
    "import time\n",
    "from selenium.webdriver.common.by import By\n",
    "from selenium.webdriver.common.action_chains import ActionChains\n",
    "options=webdriver.ChromeOptions()\n",
    "options.add_argument('user-data-dir=C:\\\\Users\\\\Dikadalin\\\\AppData\\\\Local\\\\Google\\\\Chrome\\\\User Data')\n",
    "driver=webdriver.Chrome(options=options)\n",
    "driver.get('https://www.instagram.com/dolor_aksinyata')\n",
    "ActionChains(driver).scroll_by_amount(0,200)\n",
    "time.sleep(5)\n",
    "post_1=driver.find_element(By.XPATH,'/html/body/div[2]/div/div/div[2]/div/div/div/div[1]/div[1]/div[2]/div[2]/section/main/div/div[3]/article/div[1]/div/div[1]/div[1]/a/div[1]')\n",
    "post_1.click()\n",
    "time.sleep(3)\n",
    "list_comment={}\n",
    "for i in range(0,3):\n",
    "    comments=driver.find_elements(By.CLASS_NAME,\"_a9ym\")\n",
    "    pack_comment=[]\n",
    "    for com in comments:\n",
    "        pack_comment.append(com.text.replace('\\n',' '))\n",
    "    if i==0:\n",
    "        next=driver.find_element(By.XPATH,'/html/body/div[6]/div[1]/div/div[3]/div/div/div/div/div[1]/div/div/div/button')\n",
    "    else:\n",
    "        next=driver.find_element(By.XPATH,'/html/body/div[5]/div[1]/div/div[3]/div/div/div/div/div[1]/div/div/div[2]/button')\n",
    "    list_comment[i]=pack_comment\n",
    "    next.click()\n",
    "    time.sleep(3)\n",
    "print(list_comment)"
   ]
  }
 ],
 "metadata": {
  "kernelspec": {
   "display_name": "Python 3",
   "language": "python",
   "name": "python3"
  },
  "language_info": {
   "name": "python",
   "version": "3.11.5"
  },
  "orig_nbformat": 4
 },
 "nbformat": 4,
 "nbformat_minor": 2
}
