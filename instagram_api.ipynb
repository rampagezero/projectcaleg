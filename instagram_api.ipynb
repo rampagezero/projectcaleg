{
 "cells": [
  {
   "cell_type": "markdown",
   "metadata": {},
   "source": [
    "from instagrapi import Client"
   ]
  },
  {
   "cell_type": "code",
   "execution_count": 33,
   "metadata": {},
   "outputs": [],
   "source": [
    "from instagrapi import Client\n",
    "from instagrapi.types import StoryMention, StoryMedia, StoryLink, StoryHashtag\n",
    "USERNAME='rampagezero10'\n",
    "PASSWORD='babi021050'\n",
    "cl = Client()\n",
    "cl.login(USERNAME, PASSWORD, verification_code=\"<2FA CODE HERE>\")\n",
    "\n",
    "info = cl.user_id_from_username('dolor_aksinyata')\n",
    "\n",
    "# cl.video_upload_to_story(\n",
    "#     media_path,\n",
    "#     \"Credits @subzeroid\",\n",
    "#     mentions=[StoryMention(user=subzeroid, x=0.49892962, y=0.703125, width=0.8333333333333334, height=0.125)],\n",
    "#     links=[StoryLink(webUri='https://github.com/subzeroid/instagrapi')],\n",
    "#     hashtags=[StoryHashtag(hashtag=hashtag, x=0.23, y=0.32, width=0.5, height=0.22)],\n",
    "#     medias=[StoryMedia(media_pk=media_pk, x=0.5, y=0.5, width=0.6, height=0.8)]\n",
    "# )"
   ]
  },
  {
   "cell_type": "markdown",
   "metadata": {},
   "source": [
    "## Call API"
   ]
  },
  {
   "cell_type": "code",
   "execution_count": 34,
   "metadata": {},
   "outputs": [],
   "source": [
    "list_media=cl.user_medias(info)"
   ]
  },
  {
   "cell_type": "code",
   "execution_count": 35,
   "metadata": {},
   "outputs": [
    {
     "data": {
      "text/plain": [
       "Comment(pk='18045771151483063', text='Kreeeen pak Andi Asmara menjadi inspirasi  anak mudah pantang mundur maju terus❤️❤️❤️❤️', user=UserShort(pk='3094571541', username='rekayusuf6675', full_name='Maulana', profile_pic_url=HttpUrl('https://instagram.fcgk33-1.fna.fbcdn.net/v/t51.2885-19/385195108_1540288886785625_6393700489638281293_n.jpg?stp=dst-jpg_e0_s150x150&_nc_ht=instagram.fcgk33-1.fna.fbcdn.net&_nc_cat=105&_nc_ohc=mcWyKo5FmboAX9Iwq5G&edm=AId3EpQBAAAA&ccb=7-5&oh=00_AfBEbSKHNq3AEbvnn0K-iwMtyDt2dPJGT9qmPIXT7NbWaQ&oe=6556764B&_nc_sid=f5838a', ), profile_pic_url_hd=None, is_private=True, stories=[]), created_at_utc=datetime.datetime(2023, 11, 11, 6, 13, 16, tzinfo=datetime.timezone.utc), content_type='comment', status='Active', has_liked=False, like_count=0)"
      ]
     },
     "execution_count": 35,
     "metadata": {},
     "output_type": "execute_result"
    }
   ],
   "source": [
    "cl.media_comments(list_media[0].id,1)[0]"
   ]
  },
  {
   "cell_type": "markdown",
   "metadata": {},
   "source": [
    "## Create DataFrame"
   ]
  },
  {
   "cell_type": "code",
   "execution_count": 36,
   "metadata": {},
   "outputs": [],
   "source": [
    "import pandas as pd\n",
    "comment_df=pd.DataFrame(data=[],columns=['media_id','User','User Private','Fullname','Text','Timestamp'])\n"
   ]
  },
  {
   "cell_type": "code",
   "execution_count": 37,
   "metadata": {},
   "outputs": [],
   "source": [
    "list_data=[list_media[0].id,cl.media_comments(list_media[0].id,1)[0].user.username,cl.media_comments(list_media[0].id,1)[0].user.is_private,cl.media_comments(list_media[0].id,1)[0].user.full_name,cl.media_comments(list_media[0].id,1)[0].text,cl.media_comments(list_media[0].id,1)[0].created_at_utc]"
   ]
  },
  {
   "cell_type": "code",
   "execution_count": 38,
   "metadata": {},
   "outputs": [],
   "source": [
    "comment_df.loc[0]=list_data"
   ]
  },
  {
   "cell_type": "code",
   "execution_count": 39,
   "metadata": {},
   "outputs": [
    {
     "data": {
      "text/html": [
       "<div>\n",
       "<style scoped>\n",
       "    .dataframe tbody tr th:only-of-type {\n",
       "        vertical-align: middle;\n",
       "    }\n",
       "\n",
       "    .dataframe tbody tr th {\n",
       "        vertical-align: top;\n",
       "    }\n",
       "\n",
       "    .dataframe thead th {\n",
       "        text-align: right;\n",
       "    }\n",
       "</style>\n",
       "<table border=\"1\" class=\"dataframe\">\n",
       "  <thead>\n",
       "    <tr style=\"text-align: right;\">\n",
       "      <th></th>\n",
       "      <th>media_id</th>\n",
       "      <th>User</th>\n",
       "      <th>User Private</th>\n",
       "      <th>Fullname</th>\n",
       "      <th>Text</th>\n",
       "      <th>Timestamp</th>\n",
       "    </tr>\n",
       "  </thead>\n",
       "  <tbody>\n",
       "    <tr>\n",
       "      <th>0</th>\n",
       "      <td>3232922787119466164_24457949</td>\n",
       "      <td>rekayusuf6675</td>\n",
       "      <td>True</td>\n",
       "      <td>Maulana</td>\n",
       "      <td>Kreeeen pak Andi Asmara menjadi inspirasi  ana...</td>\n",
       "      <td>2023-11-11 06:13:16+00:00</td>\n",
       "    </tr>\n",
       "  </tbody>\n",
       "</table>\n",
       "</div>"
      ],
      "text/plain": [
       "                       media_id           User  User Private Fullname  \\\n",
       "0  3232922787119466164_24457949  rekayusuf6675          True  Maulana   \n",
       "\n",
       "                                                Text                 Timestamp  \n",
       "0  Kreeeen pak Andi Asmara menjadi inspirasi  ana... 2023-11-11 06:13:16+00:00  "
      ]
     },
     "execution_count": 39,
     "metadata": {},
     "output_type": "execute_result"
    }
   ],
   "source": [
    "comment_df"
   ]
  },
  {
   "cell_type": "code",
   "execution_count": null,
   "metadata": {},
   "outputs": [],
   "source": [
    "compound_data=[]"
   ]
  },
  {
   "cell_type": "code",
   "execution_count": 113,
   "metadata": {},
   "outputs": [
    {
     "ename": "PleaseWaitFewMinutes",
     "evalue": "Please wait a few minutes before you try again.",
     "output_type": "error",
     "traceback": [
      "\u001b[1;31m---------------------------------------------------------------------------\u001b[0m",
      "\u001b[1;31mHTTPError\u001b[0m                                 Traceback (most recent call last)",
      "File \u001b[1;32mc:\\Users\\Dikadalin\\AppData\\Local\\Programs\\Python\\Python311\\Lib\\site-packages\\instagrapi\\mixins\\private.py:360\u001b[0m, in \u001b[0;36mPrivateRequestMixin._send_private_request\u001b[1;34m(self, endpoint, data, params, login, with_signature, headers, extra_sig, domain)\u001b[0m\n\u001b[0;32m    359\u001b[0m \u001b[39mself\u001b[39m\u001b[39m.\u001b[39mlast_response \u001b[39m=\u001b[39m response\n\u001b[1;32m--> 360\u001b[0m response\u001b[39m.\u001b[39;49mraise_for_status()\n\u001b[0;32m    361\u001b[0m \u001b[39m# last_json - for Sentry context in traceback\u001b[39;00m\n",
      "File \u001b[1;32mc:\\Users\\Dikadalin\\AppData\\Local\\Programs\\Python\\Python311\\Lib\\site-packages\\requests\\models.py:1021\u001b[0m, in \u001b[0;36mResponse.raise_for_status\u001b[1;34m(self)\u001b[0m\n\u001b[0;32m   1020\u001b[0m \u001b[39mif\u001b[39;00m http_error_msg:\n\u001b[1;32m-> 1021\u001b[0m     \u001b[39mraise\u001b[39;00m HTTPError(http_error_msg, response\u001b[39m=\u001b[39m\u001b[39mself\u001b[39m)\n",
      "\u001b[1;31mHTTPError\u001b[0m: 400 Client Error: Bad Request for url: https://i.instagram.com/api/v1/accounts/login/",
      "\nDuring handling of the above exception, another exception occurred:\n",
      "\u001b[1;31mPleaseWaitFewMinutes\u001b[0m                      Traceback (most recent call last)",
      "\u001b[1;32mc:\\Documents\\Project Scrapping Insstagram\\instagram_api.ipynb Cell 12\u001b[0m line \u001b[0;36m2\n\u001b[0;32m     <a href='vscode-notebook-cell:/c%3A/Documents/Project%20Scrapping%20Insstagram/instagram_api.ipynb#X10sZmlsZQ%3D%3D?line=21'>22</a>\u001b[0m PASSWORD\u001b[39m=\u001b[39m\u001b[39m'\u001b[39m\u001b[39mbabi021050\u001b[39m\u001b[39m'\u001b[39m\n\u001b[0;32m     <a href='vscode-notebook-cell:/c%3A/Documents/Project%20Scrapping%20Insstagram/instagram_api.ipynb#X10sZmlsZQ%3D%3D?line=22'>23</a>\u001b[0m cl \u001b[39m=\u001b[39m Client()\n\u001b[1;32m---> <a href='vscode-notebook-cell:/c%3A/Documents/Project%20Scrapping%20Insstagram/instagram_api.ipynb#X10sZmlsZQ%3D%3D?line=23'>24</a>\u001b[0m cl\u001b[39m.\u001b[39;49mlogin(USERNAME, PASSWORD, verification_code\u001b[39m=\u001b[39;49m\u001b[39m\"\u001b[39;49m\u001b[39m<2FA CODE HERE>\u001b[39;49m\u001b[39m\"\u001b[39;49m)\n\u001b[0;32m     <a href='vscode-notebook-cell:/c%3A/Documents/Project%20Scrapping%20Insstagram/instagram_api.ipynb#X10sZmlsZQ%3D%3D?line=24'>25</a>\u001b[0m time\u001b[39m.\u001b[39msleep(\u001b[39m10\u001b[39m)\n",
      "File \u001b[1;32mc:\\Users\\Dikadalin\\AppData\\Local\\Programs\\Python\\Python311\\Lib\\site-packages\\instagrapi\\mixins\\auth.py:441\u001b[0m, in \u001b[0;36mLoginMixin.login\u001b[1;34m(self, username, password, relogin, verification_code)\u001b[0m\n\u001b[0;32m    427\u001b[0m data \u001b[39m=\u001b[39m {\n\u001b[0;32m    428\u001b[0m     \u001b[39m\"\u001b[39m\u001b[39mjazoest\u001b[39m\u001b[39m\"\u001b[39m: generate_jazoest(\u001b[39mself\u001b[39m\u001b[39m.\u001b[39mphone_id),\n\u001b[0;32m    429\u001b[0m     \u001b[39m\"\u001b[39m\u001b[39mcountry_codes\u001b[39m\u001b[39m\"\u001b[39m: \u001b[39m'\u001b[39m\u001b[39m[\u001b[39m\u001b[39m{\u001b[39m\u001b[39m\"\u001b[39m\u001b[39mcountry_code\u001b[39m\u001b[39m\"\u001b[39m\u001b[39m:\u001b[39m\u001b[39m\"\u001b[39m\u001b[39m%d\u001b[39;00m\u001b[39m\"\u001b[39m\u001b[39m,\u001b[39m\u001b[39m\"\u001b[39m\u001b[39msource\u001b[39m\u001b[39m\"\u001b[39m\u001b[39m:[\u001b[39m\u001b[39m\"\u001b[39m\u001b[39mdefault\u001b[39m\u001b[39m\"\u001b[39m\u001b[39m]}]\u001b[39m\u001b[39m'\u001b[39m\n\u001b[1;32m   (...)\u001b[0m\n\u001b[0;32m    438\u001b[0m     \u001b[39m\"\u001b[39m\u001b[39mlogin_attempt_count\u001b[39m\u001b[39m\"\u001b[39m: \u001b[39m\"\u001b[39m\u001b[39m0\u001b[39m\u001b[39m\"\u001b[39m,\n\u001b[0;32m    439\u001b[0m }\n\u001b[0;32m    440\u001b[0m \u001b[39mtry\u001b[39;00m:\n\u001b[1;32m--> 441\u001b[0m     logged \u001b[39m=\u001b[39m \u001b[39mself\u001b[39;49m\u001b[39m.\u001b[39;49mprivate_request(\u001b[39m\"\u001b[39;49m\u001b[39maccounts/login/\u001b[39;49m\u001b[39m\"\u001b[39;49m, data, login\u001b[39m=\u001b[39;49m\u001b[39mTrue\u001b[39;49;00m)\n\u001b[0;32m    442\u001b[0m     \u001b[39mself\u001b[39m\u001b[39m.\u001b[39mauthorization_data \u001b[39m=\u001b[39m \u001b[39mself\u001b[39m\u001b[39m.\u001b[39mparse_authorization(\n\u001b[0;32m    443\u001b[0m         \u001b[39mself\u001b[39m\u001b[39m.\u001b[39mlast_response\u001b[39m.\u001b[39mheaders\u001b[39m.\u001b[39mget(\u001b[39m\"\u001b[39m\u001b[39mig-set-authorization\u001b[39m\u001b[39m\"\u001b[39m)\n\u001b[0;32m    444\u001b[0m     )\n\u001b[0;32m    445\u001b[0m \u001b[39mexcept\u001b[39;00m TwoFactorRequired \u001b[39mas\u001b[39;00m e:\n",
      "File \u001b[1;32mc:\\Users\\Dikadalin\\AppData\\Local\\Programs\\Python\\Python311\\Lib\\site-packages\\instagrapi\\mixins\\private.py:542\u001b[0m, in \u001b[0;36mPrivateRequestMixin.private_request\u001b[1;34m(self, endpoint, data, params, login, with_signature, headers, extra_sig, domain)\u001b[0m\n\u001b[0;32m    540\u001b[0m     \u001b[39mself\u001b[39m\u001b[39m.\u001b[39mchallenge_resolve(\u001b[39mself\u001b[39m\u001b[39m.\u001b[39mlast_json)\n\u001b[0;32m    541\u001b[0m \u001b[39melse\u001b[39;00m:\n\u001b[1;32m--> 542\u001b[0m     \u001b[39mraise\u001b[39;00m e\n\u001b[0;32m    543\u001b[0m \u001b[39mif\u001b[39;00m login \u001b[39mand\u001b[39;00m \u001b[39mself\u001b[39m\u001b[39m.\u001b[39muser_id:\n\u001b[0;32m    544\u001b[0m     \u001b[39m# After challenge resolve return last_json\u001b[39;00m\n\u001b[0;32m    545\u001b[0m     \u001b[39mreturn\u001b[39;00m \u001b[39mself\u001b[39m\u001b[39m.\u001b[39mlast_json\n",
      "File \u001b[1;32mc:\\Users\\Dikadalin\\AppData\\Local\\Programs\\Python\\Python311\\Lib\\site-packages\\instagrapi\\mixins\\private.py:527\u001b[0m, in \u001b[0;36mPrivateRequestMixin.private_request\u001b[1;34m(self, endpoint, data, params, login, with_signature, headers, extra_sig, domain)\u001b[0m\n\u001b[0;32m    525\u001b[0m         random_delay(delay_range\u001b[39m=\u001b[39m\u001b[39mself\u001b[39m\u001b[39m.\u001b[39mdelay_range)\n\u001b[0;32m    526\u001b[0m     \u001b[39mself\u001b[39m\u001b[39m.\u001b[39mprivate_requests_count \u001b[39m+\u001b[39m\u001b[39m=\u001b[39m \u001b[39m1\u001b[39m\n\u001b[1;32m--> 527\u001b[0m     \u001b[39mself\u001b[39;49m\u001b[39m.\u001b[39;49m_send_private_request(endpoint, \u001b[39m*\u001b[39;49m\u001b[39m*\u001b[39;49mkwargs)\n\u001b[0;32m    528\u001b[0m \u001b[39mexcept\u001b[39;00m ClientRequestTimeout:\n\u001b[0;32m    529\u001b[0m     \u001b[39mself\u001b[39m\u001b[39m.\u001b[39mlogger\u001b[39m.\u001b[39minfo(\n\u001b[0;32m    530\u001b[0m         \u001b[39m\"\u001b[39m\u001b[39mWait 60 seconds and try one more time (ClientRequestTimeout)\u001b[39m\u001b[39m\"\u001b[39m\n\u001b[0;32m    531\u001b[0m     )\n",
      "File \u001b[1;32mc:\\Users\\Dikadalin\\AppData\\Local\\Programs\\Python\\Python311\\Lib\\site-packages\\instagrapi\\mixins\\private.py:383\u001b[0m, in \u001b[0;36mPrivateRequestMixin._send_private_request\u001b[1;34m(self, endpoint, data, params, login, with_signature, headers, extra_sig, domain)\u001b[0m\n\u001b[0;32m    381\u001b[0m message \u001b[39m=\u001b[39m last_json\u001b[39m.\u001b[39mget(\u001b[39m\"\u001b[39m\u001b[39mmessage\u001b[39m\u001b[39m\"\u001b[39m, \u001b[39m\"\u001b[39m\u001b[39m\"\u001b[39m)\n\u001b[0;32m    382\u001b[0m \u001b[39mif\u001b[39;00m \u001b[39m\"\u001b[39m\u001b[39mPlease wait a few minutes\u001b[39m\u001b[39m\"\u001b[39m \u001b[39min\u001b[39;00m message:\n\u001b[1;32m--> 383\u001b[0m     \u001b[39mraise\u001b[39;00m PleaseWaitFewMinutes(e, response\u001b[39m=\u001b[39me\u001b[39m.\u001b[39mresponse, \u001b[39m*\u001b[39m\u001b[39m*\u001b[39mlast_json)\n\u001b[0;32m    384\u001b[0m \u001b[39mif\u001b[39;00m e\u001b[39m.\u001b[39mresponse\u001b[39m.\u001b[39mstatus_code \u001b[39m==\u001b[39m \u001b[39m403\u001b[39m:\n\u001b[0;32m    385\u001b[0m     \u001b[39mif\u001b[39;00m message \u001b[39m==\u001b[39m \u001b[39m\"\u001b[39m\u001b[39mlogin_required\u001b[39m\u001b[39m\"\u001b[39m:\n",
      "\u001b[1;31mPleaseWaitFewMinutes\u001b[0m: Please wait a few minutes before you try again."
     ]
    }
   ],
   "source": [
    "\n",
    "a=417\n",
    "from instagrapi import Client\n",
    "from instagrapi.types import StoryMention, StoryMedia, StoryLink, StoryHashtag\n",
    "USERNAME='rampagezero10'\n",
    "PASSWORD='babi021050'\n",
    "cl = Client()\n",
    "cl.login(USERNAME, PASSWORD, verification_code=\"<2FA CODE HERE>\")\n",
    "info = cl.user_id_from_username('dolor_aksinyata')\n",
    "import time\n",
    "for id_media in list_media[43:]:\n",
    "    for i in cl.media_comments(id_media.id):\n",
    "            data_dict={'no':a,\"media_id\":id_media,\n",
    "            \"user\":i.user.username,\n",
    "            \"user_private\":i.user.is_private,\n",
    "            \"fullname\":i.user.full_name,\n",
    "            \"text\":i.text,\n",
    "            \"timestamp\":i.created_at_utc}\n",
    "            compound_data.append(data_dict)\n",
    "            a=a+1\n",
    "            if a%20==0:\n",
    "                USERNAME='rampagezero10'\n",
    "                PASSWORD='babi021050'\n",
    "                cl = Client()\n",
    "                cl.login(USERNAME, PASSWORD, verification_code=\"<2FA CODE HERE>\")\n",
    "                time.sleep(10)"
   ]
  },
  {
   "cell_type": "code",
   "execution_count": 112,
   "metadata": {},
   "outputs": [
    {
     "data": {
      "text/plain": [
       "[Media(pk='3208386993742702290', id='3208386993742702290_24457949', code='CyGevjYBGbS', taken_at=datetime.datetime(2023, 10, 7, 14, 41, 10, tzinfo=datetime.timezone.utc), media_type=2, image_versions2={}, product_type='feed', thumbnail_url=HttpUrl('https://instagram.fcgk33-1.fna.fbcdn.net/v/t51.2885-15/387268442_154471427730030_9143825620389341214_n.jpg?stp=dst-jpg_e15_fr_p1080x1080&_nc_ht=instagram.fcgk33-1.fna.fbcdn.net&_nc_cat=106&_nc_ohc=ifi3XdfDwUcAX_Supm9&edm=APU89FABAAAA&ccb=7-5&oh=00_AfAvn_LVzUBdJxzF3Y9CUgncks_o6U5rLmV89UHOQXN1sA&oe=655277BD&_nc_sid=bc0c2c', ), location=None, user=UserShort(pk='24457949', username='andiasmaraofficial', full_name='', profile_pic_url=None, profile_pic_url_hd=None, is_private=None, stories=[]), comment_count=34, comments_disabled=False, commenting_disabled_for_viewer=False, like_count=1034, play_count=None, has_liked=None, caption_text='Cerita Dari Colosseum\\n\\nSisa-sisa cerita di Eropa kemarin, kami mampir di Colosseum, Roma, Italia. Setelah ke Basilica dan Vatikan.\\n\\nBangunan warisan budaya dunia yang diakui oleh UNESCO yang dapat menampung 50.000 penonton ini, awalnya bernama Flavian Amphitheatre, dibangun oleh masa pemerintahan kaisar-kaisar Flavian. \\n\\nPembangunannya mulai dari antara tahun 70 dan 72 Masehi selama pemerintahan Vespasianus dan selesai pada tahun 82 M. dan masih memegang Guinness World Record untuk amfiteater terbesar di dunia.\\n\\nSedikit cerita napak tilas masa kejayaan Romawi, banyak hal yang bisa kita pelajari dari sini tentang karakter kepemimpinan dari masa ke masa kekaisaran Romawi.', accessibility_caption=None, usertags=[Usertag(user=UserShort(pk='59439168103', username='dolor_aksinyata', full_name='', profile_pic_url=None, profile_pic_url_hd=None, is_private=None, stories=[]), x=0.0, y=0.0)], sponsor_tags=[], video_url=HttpUrl('https://instagram.fcgk33-1.fna.fbcdn.net/v/t66.30100-16/10000000_6968072379905091_2766237278701349674_n.mp4?_nc_ht=instagram.fcgk33-1.fna.fbcdn.net&_nc_cat=103&_nc_ohc=xiEgXcQBio8AX_oweg0&edm=APU89FABAAAA&ccb=7-5&oh=00_AfCVlqJKneXH2ELfpy5tEm4tKaXXiQ5Qi2oomMfK4GXz0Q&oe=65529B0A&_nc_sid=bc0c2c', ), view_count=725, video_duration=0.0, title='', resources=[], clips_metadata={})]"
      ]
     },
     "execution_count": 112,
     "metadata": {},
     "output_type": "execute_result"
    }
   ],
   "source": [
    "list_media[42:43]"
   ]
  },
  {
   "cell_type": "code",
   "execution_count": 95,
   "metadata": {},
   "outputs": [
    {
     "data": {
      "text/plain": [
       "400"
      ]
     },
     "execution_count": 95,
     "metadata": {},
     "output_type": "execute_result"
    }
   ],
   "source": [
    "len(compound_data)"
   ]
  },
  {
   "cell_type": "code",
   "execution_count": 83,
   "metadata": {},
   "outputs": [
    {
     "data": {
      "text/plain": [
       "{'no': 230,\n",
       " 'media_id': Media(pk='3215533540846765007', id='3215533540846765007_24457949', code='Cyf3rgBhoPP', taken_at=datetime.datetime(2023, 10, 17, 11, 33, 51, tzinfo=datetime.timezone.utc), media_type=2, image_versions2={}, product_type='feed', thumbnail_url=HttpUrl('https://instagram.fcgk33-1.fna.fbcdn.net/v/t51.2885-15/392931282_1360867191524872_3967560560654749196_n.jpg?stp=dst-jpg_e15_fr_p1080x1080&_nc_ht=instagram.fcgk33-1.fna.fbcdn.net&_nc_cat=104&_nc_ohc=HRwxc5sr6GIAX_Bor6R&edm=APU89FABAAAA&ccb=7-5&oh=00_AfDd-4D59zaOJIQMA7RbIszMnpK9-4mNzoUiy0Wgwj6bug&oe=65523C92&_nc_sid=bc0c2c', ), location=None, user=UserShort(pk='24457949', username='andiasmaraofficial', full_name='', profile_pic_url=None, profile_pic_url_hd=None, is_private=None, stories=[]), comment_count=3, comments_disabled=False, commenting_disabled_for_viewer=False, like_count=98, play_count=None, has_liked=None, caption_text='NGANCAP WARGA\\n“Kecamatan Sematang Borang”\\n\\nAksi Nyata AA ke sematang borang\\nCaleg perindo selalu dinanti \\nWarga Sematang Borang\\nSangat luar biasa dan berkesan diihati..!\\n\\nSaya beberapa waktu lalu turun menyapa warga di Sematang Borang. Bersama rekan-rekan yaitu Bpk. Dekki, S.T., S.H., M.H. (Caleg DPRD Provinsi Sumsel, Dapil 2) dan Ibu Renny Sepriyanti (Caleg DPRD Kota Palembang, Dapil 4). \\n\\nDalam kegiatan ini seperti biasa kita silaturahmi, menyerap aspirasi masyarakat, menumbuhkan semangat UMKM dengan memberikan makanan gratis, dan mensosialisasikan KTA Perindo Beransuransi kecelakaan.\\n\\nSemoga pertemuan ini menjadi berkesan dan bermanfaat, serta menjadi langkah awal semangat untuk meningkatkan ekonomi Sumsel..!', accessibility_caption=None, usertags=[Usertag(user=UserShort(pk='55466790666', username='dpwperindosumsel', full_name='', profile_pic_url=None, profile_pic_url_hd=None, is_private=None, stories=[]), x=0.0653594807, y=0.016339870200000002), Usertag(user=UserShort(pk='59439168103', username='dolor_aksinyata', full_name='', profile_pic_url=None, profile_pic_url_hd=None, is_private=None, stories=[]), x=0.0653594807, y=0.016339870200000002), Usertag(user=UserShort(pk='60034385702', username='rennysepriyanti', full_name='', profile_pic_url=None, profile_pic_url_hd=None, is_private=None, stories=[]), x=0.0, y=0.0), Usertag(user=UserShort(pk='8660042667', username='d_dekki', full_name='', profile_pic_url=None, profile_pic_url_hd=None, is_private=None, stories=[]), x=0.0, y=0.0)], sponsor_tags=[], video_url=HttpUrl('https://instagram.fcgk33-1.fna.fbcdn.net/v/t66.30100-16/10000000_1143595903268721_5654594634214074600_n.mp4?_nc_ht=instagram.fcgk33-1.fna.fbcdn.net&_nc_cat=109&_nc_ohc=SS8Ji0b_L3EAX-0Fg09&edm=APU89FABAAAA&ccb=7-5&oh=00_AfD_gaVwpRbnb_GCnqe1XE9simvdQ-DArRZp9UbnxOlRDw&oe=6552C6EB&_nc_sid=bc0c2c', ), view_count=1222, video_duration=0.0, title='', resources=[], clips_metadata={}),\n",
       " 'user': 'indriindri543',\n",
       " 'user_private': False,\n",
       " 'fullname': 'Indri',\n",
       " 'text': 'Nah pak cubolah bantu kami yg lg kesulitan rkonomi',\n",
       " 'timestamp': datetime.datetime(2023, 10, 17, 17, 56, 4, tzinfo=datetime.timezone.utc)}"
      ]
     },
     "execution_count": 83,
     "metadata": {},
     "output_type": "execute_result"
    }
   ],
   "source": [
    "compound_data[len(compound_data)-1]"
   ]
  },
  {
   "cell_type": "code",
   "execution_count": 116,
   "metadata": {},
   "outputs": [],
   "source": [
    "pd.DataFrame(compound_data).to_csv('instagram_data.csv')"
   ]
  }
 ],
 "metadata": {
  "kernelspec": {
   "display_name": "Python 3",
   "language": "python",
   "name": "python3"
  },
  "language_info": {
   "codemirror_mode": {
    "name": "ipython",
    "version": 3
   },
   "file_extension": ".py",
   "mimetype": "text/x-python",
   "name": "python",
   "nbconvert_exporter": "python",
   "pygments_lexer": "ipython3",
   "version": "3.11.5"
  }
 },
 "nbformat": 4,
 "nbformat_minor": 2
}
